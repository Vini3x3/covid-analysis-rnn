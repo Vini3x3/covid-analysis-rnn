{
 "cells": [
  {
   "cell_type": "code",
   "execution_count": 1,
   "id": "2693e4fa",
   "metadata": {},
   "outputs": [],
   "source": [
    "import copy\n",
    "\n",
    "import numpy as np\n",
    "import torch\n",
    "import torch.nn as nn\n",
    "from torch import Tensor\n",
    "import torch.nn.functional as F\n",
    "\n",
    "from loader.DataLoader import read_dataframe\n",
    "from loader.DataTransformer import lag_list, transform_matrix\n",
    "\n",
    "from model.RandomForestLstmModel import RandomForestLstmModel\n",
    "from model.ScalingResidualLstmModel import ScalingResidualLstmModel"
   ]
  },
  {
   "cell_type": "code",
   "execution_count": 2,
   "id": "1b21ea0c",
   "metadata": {},
   "outputs": [],
   "source": [
    "import matplotlib.pyplot as plt"
   ]
  },
  {
   "cell_type": "code",
   "execution_count": 3,
   "id": "8c32726f",
   "metadata": {},
   "outputs": [],
   "source": [
    "# data parameter\n",
    "LAG = 15\n",
    "WAVE = 3\n",
    "REPEAT = 100"
   ]
  },
  {
   "cell_type": "markdown",
   "id": "6884e60d",
   "metadata": {},
   "source": [
    "### Prepare Data"
   ]
  },
  {
   "cell_type": "code",
   "execution_count": 4,
   "id": "ff86b9e6",
   "metadata": {},
   "outputs": [],
   "source": [
    "def get_file_path(wave, filename):\n",
    "    curr_dir = os.getcwd()\n",
    "    project_dir = curr_dir.split('GitHub')[0]\n",
    "    analysis_on_covid_dir = os.path.join(project_dir, 'GitHub', 'analysis-on-covid')\n",
    "    return analysis_on_covid_dir + 'checkpoint_wave' + str(wave) + '/' + filename\n",
    "    # return 'checkpoint_wave' + str(wave) + '/' + filename"
   ]
  },
  {
   "cell_type": "code",
   "execution_count": 5,
   "id": "11bf6b12",
   "metadata": {},
   "outputs": [],
   "source": [
    "def hypothesize(dataframe):\n",
    "    # taframe.loc[280:505, 'people8'] = 1\n",
    "    return dataframe"
   ]
  },
  {
   "cell_type": "code",
   "execution_count": 6,
   "id": "a05f9677",
   "metadata": {},
   "outputs": [],
   "source": [
    "# prepare data\n",
    "sequence = read_dataframe('all')\n",
    "sequence = hypothesize(sequence)\n",
    "sequence = sequence.to_numpy()\n",
    "y_var = np.var(sequence[:, -1])\n",
    "shifted_sequence = lag_list(sequence, LAG + 1)  # shift into delayed sequences\n",
    "\n",
    "x_train = shifted_sequence[:, :-1, 1:]  # for each delayed sequence, take all elements except last element\n",
    "y_train = shifted_sequence[:, -1, -1]  # for each delayed sequence, only take the last element\n",
    "y_train = y_train.reshape(-1, 1)\n",
    "\n",
    "x_train = torch.from_numpy(x_train.astype('float64')).type(torch.Tensor)  # convert to tensor\n",
    "y_train = torch.from_numpy(y_train.astype('int32')).type(torch.Tensor)  # convert to tensor\n",
    "\n",
    "if WAVE == 1:\n",
    "    x_train, y_train = x_train[52 - LAG:103 - LAG], y_train[52 - LAG:103 - LAG]\n",
    "if WAVE == 2:\n",
    "    x_train, y_train = x_train[160 - LAG:280 - LAG], y_train[160 - LAG:280 - LAG]\n",
    "elif WAVE == 3:\n",
    "    x_train, y_train = x_train[280 - LAG:505 - LAG], y_train[280 - LAG:505 - LAG]\n",
    "elif WAVE == 4:\n",
    "    x_train, y_train = x_train[757 - LAG:871 - LAG], y_train[757 - LAG:871 - LAG]"
   ]
  },
  {
   "cell_type": "markdown",
   "id": "3ddfc183",
   "metadata": {},
   "source": [
    "### Random Forest Model"
   ]
  },
  {
   "cell_type": "code",
   "execution_count": 7,
   "id": "c9a4f2ed",
   "metadata": {},
   "outputs": [],
   "source": [
    "performance = np.load(get_file_path(WAVE, 'best_train_loss.npy'))\n",
    "\n",
    "# build model\n",
    "input_dim = x_train.shape[-1]\n",
    "hidden_dim = 64\n",
    "num_layers = 4\n",
    "output_dim = 1\n",
    "\n",
    "models = []\n",
    "for i in range(100):\n",
    "    model = ScalingResidualLstmModel(input_dim, hidden_dim, num_layers, output_dim, LAG)\n",
    "    model_path: str = get_file_path(WAVE, 'checkpoints/model_{:02d}.chk'.format(i))\n",
    "    model.load_state_dict(torch.load(model_path))\n",
    "    models.append(copy.deepcopy(model))\n",
    "\n",
    "model = RandomForestLstmModel(models, performance)"
   ]
  },
  {
   "cell_type": "code",
   "execution_count": 8,
   "id": "1afc3e06",
   "metadata": {},
   "outputs": [],
   "source": [
    "# for the first day's input, the prediction is real.  \n",
    "# that is to kickstart the ongoing prediction\n",
    "\n",
    "x_test = x_train[0].reshape(1,LAG, x_train.shape[2]) # get the first input\n",
    "y_pred = [ x_test[0][-1][0].detach().numpy().reshape(-1) ] # initialize the list with the first actual count\n",
    "\n",
    "prediction_range = len(x_train)\n",
    "# prediction_range = 7\n",
    "\n",
    "for i in range(1, prediction_range):\n",
    "    _ = model(x_test)\n",
    "    \n",
    "    # extract the next input item\n",
    "    x_test = x_train[i].reshape(1, LAG, x_train.shape[2])\n",
    "    \n",
    "    # modify the previous day's count to be the prediction\n",
    "    x_test[0][-1][0] = torch.tensor(_.item())\n",
    "    \n",
    "    # append to model prediction list\n",
    "    _2 = _.detach().numpy()  # revert from tensor\n",
    "    _2 = _2.reshape(-1)  # reshape back to normal list\n",
    "    y_pred.append(_2)"
   ]
  },
  {
   "cell_type": "code",
   "execution_count": 9,
   "id": "4e6a355e",
   "metadata": {},
   "outputs": [],
   "source": [
    "y_pred = np.array(y_pred).reshape(-1)  # reshape back to normal list\n",
    "y_train = np.array(y_train[:prediction_range]).reshape(-1)  # reshape back to normal list"
   ]
  },
  {
   "cell_type": "code",
   "execution_count": 10,
   "id": "808700e4",
   "metadata": {},
   "outputs": [
    {
     "name": "stdout",
     "output_type": "stream",
     "text": [
      "TEST | MSE: 1.24E+02 | RRSE: 1.31E-01\n"
     ]
    }
   ],
   "source": [
    "mse = sum((y_train - y_pred) ** 2) / len(y_pred)\n",
    "rmse = mse / np.var(y_train)\n",
    "print(\"TEST | MSE: %.2E | RRSE: %.2E\" % (mse, rmse))"
   ]
  },
  {
   "cell_type": "code",
   "execution_count": 11,
   "id": "b746a9b9",
   "metadata": {},
   "outputs": [
    {
     "name": "stdout",
     "output_type": "stream",
     "text": [
      "0.9828882518614068\n"
     ]
    }
   ],
   "source": [
    "# adjust for accumulated error\n",
    "adjustment_factor = 1 - rmse * rmse\n",
    "print(adjustment_factor)\n",
    "y_pred *= adjustment_factor"
   ]
  },
  {
   "cell_type": "markdown",
   "id": "6129a95a",
   "metadata": {},
   "source": [
    "### Plot Result"
   ]
  },
  {
   "cell_type": "code",
   "execution_count": 12,
   "id": "ed7a5f5f",
   "metadata": {},
   "outputs": [],
   "source": [
    "# plt.plot(range(len(y_train)), y_train, color='black')\n",
    "# plt.plot(range(len(y_pred)), y_pred, 'b--', label='lstm (rmse={rmse:.2e})'.format(rmse=rmse))\n",
    "# # plt.plot(range(len(y_pred)), y_pred, 'b--', label='lstm')\n",
    "# plt.ylabel(\"count\")\n",
    "# plt.xlabel(\"day\")\n",
    "# plt.legend()\n",
    "# plt.show()"
   ]
  },
  {
   "cell_type": "code",
   "execution_count": null,
   "id": "46c60d09",
   "metadata": {},
   "outputs": [],
   "source": []
  }
 ],
 "metadata": {
  "kernelspec": {
   "display_name": "Python 3 (ipykernel)",
   "language": "python",
   "name": "python3"
  },
  "language_info": {
   "codemirror_mode": {
    "name": "ipython",
    "version": 3
   },
   "file_extension": ".py",
   "mimetype": "text/x-python",
   "name": "python",
   "nbconvert_exporter": "python",
   "pygments_lexer": "ipython3",
   "version": "3.10.5"
  }
 },
 "nbformat": 4,
 "nbformat_minor": 5
}
